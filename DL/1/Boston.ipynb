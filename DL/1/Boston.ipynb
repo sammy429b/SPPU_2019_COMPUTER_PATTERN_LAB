{
  "nbformat": 4,
  "nbformat_minor": 0,
  "metadata": {
    "colab": {
      "provenance": []
    },
    "kernelspec": {
      "name": "python3",
      "display_name": "Python 3"
    },
    "language_info": {
      "name": "python"
    }
  },
  "cells": [
    {
      "cell_type": "code",
      "execution_count": 2,
      "metadata": {
        "id": "Yyn7GsNRW1Vu"
      },
      "outputs": [],
      "source": [
        "from tensorflow.keras.datasets import boston_housing\n",
        "from tensorflow.keras.models import Sequential\n",
        "from tensorflow.keras.layers import Dense\n",
        "from sklearn.metrics import mean_squared_error, mean_absolute_error, r2_score\n",
        "import matplotlib.pyplot as plt"
      ]
    },
    {
      "cell_type": "code",
      "source": [
        "(train_data , train_targets), (test_data, test_targets) = boston_housing.load_data()\n",
        "print (train_data.shape)\n",
        "print (train_targets.shape)\n",
        "print (test_data.shape)\n",
        "print (test_targets.shape)"
      ],
      "metadata": {
        "colab": {
          "base_uri": "https://localhost:8080/"
        },
        "id": "nKO-CX-OXMnr",
        "outputId": "0862e3de-dd06-4536-8333-3f454fd9ffd1"
      },
      "execution_count": 5,
      "outputs": [
        {
          "output_type": "stream",
          "name": "stdout",
          "text": [
            "(404, 13)\n",
            "(404,)\n",
            "(102, 13)\n",
            "(102,)\n"
          ]
        }
      ]
    },
    {
      "cell_type": "markdown",
      "source": [],
      "metadata": {
        "id": "TqbklNk6Z65l"
      }
    },
    {
      "cell_type": "code",
      "source": [
        "train_data = (train_data - train_data.mean(axis=0)) / train_data.std(axis=0)\n",
        "test_data = (test_data - test_data.mean(axis=0)) / test_data.std(axis=0)\n"
      ],
      "metadata": {
        "id": "lSQuXYpeYacd"
      },
      "execution_count": 8,
      "outputs": []
    },
    {
      "cell_type": "code",
      "source": [
        "model = Sequential()\n",
        "model.add(Dense(1,input_shape = (train_data.shape[1],)))\n",
        "model.compile(optimizer='rmsprop', loss='mse', metrics =['mae'])"
      ],
      "metadata": {
        "id": "4wrQ1kzFYfgl"
      },
      "execution_count": 9,
      "outputs": []
    },
    {
      "cell_type": "code",
      "source": [
        "history = model.fit(train_data,train_targets, epochs = 100, batch_size = 1, validation_split = 0.2, verbose = True)"
      ],
      "metadata": {
        "colab": {
          "base_uri": "https://localhost:8080/"
        },
        "id": "KgnLd1xHZx98",
        "outputId": "49ae8e73-eb70-469c-c8de-7c6e76454de9"
      },
      "execution_count": 10,
      "outputs": [
        {
          "output_type": "stream",
          "name": "stdout",
          "text": [
            "Epoch 1/100\n",
            "323/323 [==============================] - 2s 3ms/step - loss: 553.7719 - mae: 21.9421 - val_loss: 615.9769 - val_mae: 23.2724\n",
            "Epoch 2/100\n",
            "323/323 [==============================] - 1s 2ms/step - loss: 536.8577 - mae: 21.6416 - val_loss: 598.3226 - val_mae: 22.9422\n",
            "Epoch 3/100\n",
            "323/323 [==============================] - 1s 2ms/step - loss: 521.3359 - mae: 21.3604 - val_loss: 581.8279 - val_mae: 22.6192\n",
            "Epoch 4/100\n",
            "323/323 [==============================] - 1s 2ms/step - loss: 506.2147 - mae: 21.0566 - val_loss: 565.4100 - val_mae: 22.2911\n",
            "Epoch 5/100\n",
            "323/323 [==============================] - 1s 2ms/step - loss: 491.2681 - mae: 20.7710 - val_loss: 549.8147 - val_mae: 21.9682\n",
            "Epoch 6/100\n",
            "323/323 [==============================] - 1s 2ms/step - loss: 477.1931 - mae: 20.4659 - val_loss: 534.9279 - val_mae: 21.6486\n",
            "Epoch 7/100\n",
            "323/323 [==============================] - 1s 2ms/step - loss: 463.5530 - mae: 20.1710 - val_loss: 520.6602 - val_mae: 21.3296\n",
            "Epoch 8/100\n",
            "323/323 [==============================] - 1s 2ms/step - loss: 450.2860 - mae: 19.8736 - val_loss: 506.6543 - val_mae: 21.0117\n",
            "Epoch 9/100\n",
            "323/323 [==============================] - 1s 3ms/step - loss: 437.2809 - mae: 19.5685 - val_loss: 493.1900 - val_mae: 20.6989\n",
            "Epoch 10/100\n",
            "323/323 [==============================] - 1s 3ms/step - loss: 424.7337 - mae: 19.2701 - val_loss: 479.7122 - val_mae: 20.3813\n",
            "Epoch 11/100\n",
            "323/323 [==============================] - 1s 3ms/step - loss: 412.2635 - mae: 18.9752 - val_loss: 466.7775 - val_mae: 20.0670\n",
            "Epoch 12/100\n",
            "323/323 [==============================] - 1s 2ms/step - loss: 400.1762 - mae: 18.6699 - val_loss: 453.9735 - val_mae: 19.7541\n",
            "Epoch 13/100\n",
            "323/323 [==============================] - 1s 2ms/step - loss: 388.5263 - mae: 18.3768 - val_loss: 441.2578 - val_mae: 19.4376\n",
            "Epoch 14/100\n",
            "323/323 [==============================] - 1s 2ms/step - loss: 377.1174 - mae: 18.0775 - val_loss: 429.1205 - val_mae: 19.1271\n",
            "Epoch 15/100\n",
            "323/323 [==============================] - 1s 2ms/step - loss: 365.7431 - mae: 17.7750 - val_loss: 417.2378 - val_mae: 18.8168\n",
            "Epoch 16/100\n",
            "323/323 [==============================] - 1s 2ms/step - loss: 354.8880 - mae: 17.4781 - val_loss: 405.6413 - val_mae: 18.5082\n",
            "Epoch 17/100\n",
            "323/323 [==============================] - 1s 2ms/step - loss: 344.3528 - mae: 17.1937 - val_loss: 394.0708 - val_mae: 18.1966\n",
            "Epoch 18/100\n",
            "323/323 [==============================] - 1s 2ms/step - loss: 333.7098 - mae: 16.8901 - val_loss: 382.7471 - val_mae: 17.8889\n",
            "Epoch 19/100\n",
            "323/323 [==============================] - 1s 2ms/step - loss: 323.3471 - mae: 16.5916 - val_loss: 372.0170 - val_mae: 17.5859\n",
            "Epoch 20/100\n",
            "323/323 [==============================] - 1s 2ms/step - loss: 313.6195 - mae: 16.2966 - val_loss: 361.8295 - val_mae: 17.2813\n",
            "Epoch 21/100\n",
            "323/323 [==============================] - 1s 2ms/step - loss: 303.8857 - mae: 16.0000 - val_loss: 351.4059 - val_mae: 16.9805\n",
            "Epoch 22/100\n",
            "323/323 [==============================] - 1s 2ms/step - loss: 294.0716 - mae: 15.7024 - val_loss: 341.2393 - val_mae: 16.6773\n",
            "Epoch 23/100\n",
            "323/323 [==============================] - 1s 2ms/step - loss: 284.9068 - mae: 15.4117 - val_loss: 331.2075 - val_mae: 16.3773\n",
            "Epoch 24/100\n",
            "323/323 [==============================] - 1s 2ms/step - loss: 275.9188 - mae: 15.1188 - val_loss: 321.4515 - val_mae: 16.0778\n",
            "Epoch 25/100\n",
            "323/323 [==============================] - 1s 2ms/step - loss: 266.8687 - mae: 14.8274 - val_loss: 311.9702 - val_mae: 15.7809\n",
            "Epoch 26/100\n",
            "323/323 [==============================] - 1s 2ms/step - loss: 258.2807 - mae: 14.5358 - val_loss: 302.6223 - val_mae: 15.4834\n",
            "Epoch 27/100\n",
            "323/323 [==============================] - 1s 2ms/step - loss: 249.7781 - mae: 14.2462 - val_loss: 293.7718 - val_mae: 15.1888\n",
            "Epoch 28/100\n",
            "323/323 [==============================] - 1s 2ms/step - loss: 241.6164 - mae: 13.9549 - val_loss: 285.2417 - val_mae: 14.8986\n",
            "Epoch 29/100\n",
            "323/323 [==============================] - 1s 3ms/step - loss: 233.4096 - mae: 13.6612 - val_loss: 276.5826 - val_mae: 14.6049\n",
            "Epoch 30/100\n",
            "323/323 [==============================] - 1s 3ms/step - loss: 225.6181 - mae: 13.3782 - val_loss: 268.1611 - val_mae: 14.3132\n",
            "Epoch 31/100\n",
            "323/323 [==============================] - 1s 3ms/step - loss: 217.9971 - mae: 13.0955 - val_loss: 259.9377 - val_mae: 14.0228\n",
            "Epoch 32/100\n",
            "323/323 [==============================] - 1s 2ms/step - loss: 210.3143 - mae: 12.8048 - val_loss: 251.8228 - val_mae: 13.7298\n",
            "Epoch 33/100\n",
            "323/323 [==============================] - 1s 2ms/step - loss: 202.9613 - mae: 12.5160 - val_loss: 244.3025 - val_mae: 13.4459\n",
            "Epoch 34/100\n",
            "323/323 [==============================] - 1s 2ms/step - loss: 196.0074 - mae: 12.2393 - val_loss: 236.4606 - val_mae: 13.1598\n",
            "Epoch 35/100\n",
            "323/323 [==============================] - 1s 2ms/step - loss: 188.9669 - mae: 11.9558 - val_loss: 229.5478 - val_mae: 12.8811\n",
            "Epoch 36/100\n",
            "323/323 [==============================] - 1s 2ms/step - loss: 182.3723 - mae: 11.6780 - val_loss: 222.4334 - val_mae: 12.6010\n",
            "Epoch 37/100\n",
            "323/323 [==============================] - 1s 3ms/step - loss: 175.8821 - mae: 11.4018 - val_loss: 215.6250 - val_mae: 12.3331\n",
            "Epoch 38/100\n",
            "323/323 [==============================] - 1s 3ms/step - loss: 169.7626 - mae: 11.1295 - val_loss: 209.3189 - val_mae: 12.0649\n",
            "Epoch 39/100\n",
            "323/323 [==============================] - 1s 3ms/step - loss: 163.7445 - mae: 10.8578 - val_loss: 202.9012 - val_mae: 11.7957\n",
            "Epoch 40/100\n",
            "323/323 [==============================] - 1s 2ms/step - loss: 157.9235 - mae: 10.5823 - val_loss: 196.7958 - val_mae: 11.5311\n",
            "Epoch 41/100\n",
            "323/323 [==============================] - 1s 2ms/step - loss: 152.1407 - mae: 10.3137 - val_loss: 190.4186 - val_mae: 11.2644\n",
            "Epoch 42/100\n",
            "323/323 [==============================] - 1s 2ms/step - loss: 146.6345 - mae: 10.0445 - val_loss: 184.6177 - val_mae: 11.0021\n",
            "Epoch 43/100\n",
            "323/323 [==============================] - 1s 2ms/step - loss: 141.2170 - mae: 9.7760 - val_loss: 178.6533 - val_mae: 10.7407\n",
            "Epoch 44/100\n",
            "323/323 [==============================] - 1s 2ms/step - loss: 136.0711 - mae: 9.5193 - val_loss: 172.6203 - val_mae: 10.4803\n",
            "Epoch 45/100\n",
            "323/323 [==============================] - 1s 2ms/step - loss: 130.9005 - mae: 9.2584 - val_loss: 166.7717 - val_mae: 10.2193\n",
            "Epoch 46/100\n",
            "323/323 [==============================] - 1s 3ms/step - loss: 125.9973 - mae: 8.9998 - val_loss: 161.5327 - val_mae: 9.9726\n",
            "Epoch 47/100\n",
            "323/323 [==============================] - 1s 2ms/step - loss: 121.2752 - mae: 8.7402 - val_loss: 156.2299 - val_mae: 9.7240\n",
            "Epoch 48/100\n",
            "323/323 [==============================] - 1s 3ms/step - loss: 116.7574 - mae: 8.4964 - val_loss: 150.8917 - val_mae: 9.4757\n",
            "Epoch 49/100\n",
            "323/323 [==============================] - 1s 2ms/step - loss: 112.3339 - mae: 8.2464 - val_loss: 145.8556 - val_mae: 9.2268\n",
            "Epoch 50/100\n",
            "323/323 [==============================] - 1s 2ms/step - loss: 108.1926 - mae: 7.9971 - val_loss: 141.3523 - val_mae: 8.9961\n",
            "Epoch 51/100\n",
            "323/323 [==============================] - 1s 2ms/step - loss: 104.1195 - mae: 7.7578 - val_loss: 136.8401 - val_mae: 8.7604\n",
            "Epoch 52/100\n",
            "323/323 [==============================] - 1s 2ms/step - loss: 100.1961 - mae: 7.5142 - val_loss: 132.4136 - val_mae: 8.5267\n",
            "Epoch 53/100\n",
            "323/323 [==============================] - 1s 2ms/step - loss: 96.4826 - mae: 7.2788 - val_loss: 128.2180 - val_mae: 8.2975\n",
            "Epoch 54/100\n",
            "323/323 [==============================] - 1s 2ms/step - loss: 92.9493 - mae: 7.0490 - val_loss: 124.1265 - val_mae: 8.0696\n",
            "Epoch 55/100\n",
            "323/323 [==============================] - 1s 2ms/step - loss: 89.6455 - mae: 6.8276 - val_loss: 120.2294 - val_mae: 7.8437\n",
            "Epoch 56/100\n",
            "323/323 [==============================] - 1s 2ms/step - loss: 86.3623 - mae: 6.6082 - val_loss: 116.5195 - val_mae: 7.6347\n",
            "Epoch 57/100\n",
            "323/323 [==============================] - 1s 2ms/step - loss: 83.3466 - mae: 6.3981 - val_loss: 112.8511 - val_mae: 7.4286\n",
            "Epoch 58/100\n",
            "323/323 [==============================] - 1s 2ms/step - loss: 80.2923 - mae: 6.2028 - val_loss: 109.2226 - val_mae: 7.2305\n",
            "Epoch 59/100\n",
            "323/323 [==============================] - 1s 2ms/step - loss: 77.4965 - mae: 6.0148 - val_loss: 105.7042 - val_mae: 7.0393\n",
            "Epoch 60/100\n",
            "323/323 [==============================] - 1s 2ms/step - loss: 74.6738 - mae: 5.8326 - val_loss: 102.4213 - val_mae: 6.8610\n",
            "Epoch 61/100\n",
            "323/323 [==============================] - 1s 2ms/step - loss: 72.2510 - mae: 5.6652 - val_loss: 99.1709 - val_mae: 6.6930\n",
            "Epoch 62/100\n",
            "323/323 [==============================] - 1s 2ms/step - loss: 69.6641 - mae: 5.5030 - val_loss: 96.1928 - val_mae: 6.5393\n",
            "Epoch 63/100\n",
            "323/323 [==============================] - 1s 2ms/step - loss: 67.3760 - mae: 5.3447 - val_loss: 93.3316 - val_mae: 6.3919\n",
            "Epoch 64/100\n",
            "323/323 [==============================] - 1s 2ms/step - loss: 65.1512 - mae: 5.2010 - val_loss: 90.5804 - val_mae: 6.2574\n",
            "Epoch 65/100\n",
            "323/323 [==============================] - 1s 3ms/step - loss: 63.1147 - mae: 5.0715 - val_loss: 88.1132 - val_mae: 6.1340\n",
            "Epoch 66/100\n",
            "323/323 [==============================] - 1s 3ms/step - loss: 61.0663 - mae: 4.9439 - val_loss: 85.6633 - val_mae: 6.0159\n",
            "Epoch 67/100\n",
            "323/323 [==============================] - 1s 3ms/step - loss: 59.2259 - mae: 4.8322 - val_loss: 83.3900 - val_mae: 5.9071\n",
            "Epoch 68/100\n",
            "323/323 [==============================] - 1s 2ms/step - loss: 57.5184 - mae: 4.7294 - val_loss: 81.2025 - val_mae: 5.8075\n",
            "Epoch 69/100\n",
            "323/323 [==============================] - 1s 2ms/step - loss: 55.9483 - mae: 4.6334 - val_loss: 79.1409 - val_mae: 5.7158\n",
            "Epoch 70/100\n",
            "323/323 [==============================] - 1s 2ms/step - loss: 54.4290 - mae: 4.5514 - val_loss: 77.2612 - val_mae: 5.6295\n",
            "Epoch 71/100\n",
            "323/323 [==============================] - 1s 2ms/step - loss: 52.9621 - mae: 4.4697 - val_loss: 75.2926 - val_mae: 5.5421\n",
            "Epoch 72/100\n",
            "323/323 [==============================] - 1s 2ms/step - loss: 51.5743 - mae: 4.3852 - val_loss: 73.4762 - val_mae: 5.4602\n",
            "Epoch 73/100\n",
            "323/323 [==============================] - 1s 2ms/step - loss: 50.1312 - mae: 4.3260 - val_loss: 71.6641 - val_mae: 5.3787\n",
            "Epoch 74/100\n",
            "323/323 [==============================] - 1s 2ms/step - loss: 48.9942 - mae: 4.2745 - val_loss: 70.1437 - val_mae: 5.3059\n",
            "Epoch 75/100\n",
            "323/323 [==============================] - 1s 2ms/step - loss: 47.9066 - mae: 4.2270 - val_loss: 68.7196 - val_mae: 5.2402\n",
            "Epoch 76/100\n",
            "323/323 [==============================] - 1s 2ms/step - loss: 46.8241 - mae: 4.1787 - val_loss: 67.1796 - val_mae: 5.1698\n",
            "Epoch 77/100\n",
            "323/323 [==============================] - 1s 2ms/step - loss: 45.7824 - mae: 4.1337 - val_loss: 65.8307 - val_mae: 5.1124\n",
            "Epoch 78/100\n",
            "323/323 [==============================] - 1s 2ms/step - loss: 44.8548 - mae: 4.0959 - val_loss: 64.3581 - val_mae: 5.0573\n",
            "Epoch 79/100\n",
            "323/323 [==============================] - 2s 5ms/step - loss: 43.9007 - mae: 4.0571 - val_loss: 62.9616 - val_mae: 5.0040\n",
            "Epoch 80/100\n",
            "323/323 [==============================] - 1s 2ms/step - loss: 43.0168 - mae: 4.0220 - val_loss: 61.7359 - val_mae: 4.9582\n",
            "Epoch 81/100\n",
            "323/323 [==============================] - 1s 2ms/step - loss: 42.3045 - mae: 3.9884 - val_loss: 60.7157 - val_mae: 4.9226\n",
            "Epoch 82/100\n",
            "323/323 [==============================] - 1s 2ms/step - loss: 41.5576 - mae: 3.9581 - val_loss: 59.5576 - val_mae: 4.8786\n",
            "Epoch 83/100\n",
            "323/323 [==============================] - 1s 3ms/step - loss: 40.8304 - mae: 3.9299 - val_loss: 58.4794 - val_mae: 4.8371\n",
            "Epoch 84/100\n",
            "323/323 [==============================] - 1s 3ms/step - loss: 40.1728 - mae: 3.9034 - val_loss: 57.3518 - val_mae: 4.7952\n",
            "Epoch 85/100\n",
            "323/323 [==============================] - 1s 3ms/step - loss: 39.5477 - mae: 3.8765 - val_loss: 56.4320 - val_mae: 4.7596\n",
            "Epoch 86/100\n",
            "323/323 [==============================] - 1s 2ms/step - loss: 38.9347 - mae: 3.8554 - val_loss: 55.5764 - val_mae: 4.7252\n",
            "Epoch 87/100\n",
            "323/323 [==============================] - 1s 2ms/step - loss: 38.3934 - mae: 3.8266 - val_loss: 54.6147 - val_mae: 4.6859\n",
            "Epoch 88/100\n",
            "323/323 [==============================] - 1s 2ms/step - loss: 37.8070 - mae: 3.8030 - val_loss: 53.8496 - val_mae: 4.6560\n",
            "Epoch 89/100\n",
            "323/323 [==============================] - 1s 2ms/step - loss: 37.3335 - mae: 3.7831 - val_loss: 53.0224 - val_mae: 4.6242\n",
            "Epoch 90/100\n",
            "323/323 [==============================] - 1s 2ms/step - loss: 36.8659 - mae: 3.7632 - val_loss: 52.1518 - val_mae: 4.5925\n",
            "Epoch 91/100\n",
            "323/323 [==============================] - 1s 2ms/step - loss: 36.3701 - mae: 3.7496 - val_loss: 51.1876 - val_mae: 4.5562\n",
            "Epoch 92/100\n",
            "323/323 [==============================] - 1s 2ms/step - loss: 35.8706 - mae: 3.7353 - val_loss: 50.4069 - val_mae: 4.5269\n",
            "Epoch 93/100\n",
            "323/323 [==============================] - 1s 2ms/step - loss: 35.4515 - mae: 3.7174 - val_loss: 49.5969 - val_mae: 4.4951\n",
            "Epoch 94/100\n",
            "323/323 [==============================] - 1s 2ms/step - loss: 35.0481 - mae: 3.6939 - val_loss: 48.9199 - val_mae: 4.4668\n",
            "Epoch 95/100\n",
            "323/323 [==============================] - 1s 2ms/step - loss: 34.6747 - mae: 3.6877 - val_loss: 48.2386 - val_mae: 4.4404\n",
            "Epoch 96/100\n",
            "323/323 [==============================] - 1s 2ms/step - loss: 34.2743 - mae: 3.6743 - val_loss: 47.5662 - val_mae: 4.4145\n",
            "Epoch 97/100\n",
            "323/323 [==============================] - 1s 2ms/step - loss: 33.9248 - mae: 3.6583 - val_loss: 46.8643 - val_mae: 4.3869\n",
            "Epoch 98/100\n",
            "323/323 [==============================] - 1s 2ms/step - loss: 33.4902 - mae: 3.6499 - val_loss: 46.2895 - val_mae: 4.3669\n",
            "Epoch 99/100\n",
            "323/323 [==============================] - 1s 2ms/step - loss: 33.1935 - mae: 3.6310 - val_loss: 45.5735 - val_mae: 4.3404\n",
            "Epoch 100/100\n",
            "323/323 [==============================] - 1s 2ms/step - loss: 32.8478 - mae: 3.6209 - val_loss: 44.9901 - val_mae: 4.3209\n"
          ]
        }
      ]
    },
    {
      "cell_type": "markdown",
      "source": [],
      "metadata": {
        "id": "zb7PZRg_cbIr"
      }
    },
    {
      "cell_type": "code",
      "source": [
        "predictions = model.predict(test_data)"
      ],
      "metadata": {
        "colab": {
          "base_uri": "https://localhost:8080/"
        },
        "id": "wFAdkxOybNbR",
        "outputId": "f422d745-1cc2-42d4-bc44-fa20a57d6289"
      },
      "execution_count": 11,
      "outputs": [
        {
          "output_type": "stream",
          "name": "stdout",
          "text": [
            "4/4 [==============================] - 0s 3ms/step\n"
          ]
        }
      ]
    },
    {
      "cell_type": "code",
      "source": [
        "mse = mean_squared_error(test_targets,predictions)\n",
        "print(\"Mean squared Error :\", mse)\n",
        "\n",
        "mae = mean_absolute_error(test_targets,predictions)\n",
        "print(\"Mean squared Error :\", mae)\n",
        "\n",
        "r2 = r2_score(test_targets,predictions)\n",
        "print(\"Mean squared Error :\", r2)"
      ],
      "metadata": {
        "colab": {
          "base_uri": "https://localhost:8080/"
        },
        "id": "bP_ONF2Ibhja",
        "outputId": "8227c7b4-17dd-4236-bccd-aacf9420df8f"
      },
      "execution_count": 15,
      "outputs": [
        {
          "output_type": "stream",
          "name": "stdout",
          "text": [
            "Mean squared Error : 25.547484758274702\n",
            "Mean squared Error : 3.719967995437921\n",
            "Mean squared Error : 0.6931006289047524\n"
          ]
        }
      ]
    },
    {
      "cell_type": "code",
      "source": [
        "import numpy as np\n",
        "\n",
        "# Plotting the actual vs predicted\n",
        "plt.figure(figsize=(10, 6))\n",
        "plt.scatter(test_targets, predictions, color='blue', label='Actual')\n",
        "plt.plot([min(test_targets), max(test_targets)], [min(test_targets), max(test_targets)], color='red', linestyle='--', label='Regression Line')\n",
        "plt.title('Actual vs Predicted')\n",
        "plt.xlabel('Actual Prices')\n",
        "plt.ylabel('Predicted Prices')\n",
        "plt.legend()\n",
        "plt.grid(True)\n",
        "plt.show()"
      ],
      "metadata": {
        "colab": {
          "base_uri": "https://localhost:8080/",
          "height": 564
        },
        "id": "1L7jh-DHb6Ts",
        "outputId": "eb41b0d1-87f8-4424-a2f1-d407d67cd935"
      },
      "execution_count": 18,
      "outputs": [
        {
          "output_type": "display_data",
          "data": {
            "text/plain": [
              "<Figure size 1000x600 with 1 Axes>"
            ],
            "image/png": "[encoded data removed]"
          },
          "metadata": {}
        }
      ]
    },
    {
      "cell_type": "code",
      "source": [],
      "metadata": {
        "id": "KiLNMPTTc2OF"
      },
      "execution_count": null,
      "outputs": []
    }
  ]
}